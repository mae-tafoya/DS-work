{
  "nbformat": 4,
  "nbformat_minor": 0,
  "metadata": {
    "colab": {
      "name": "DS-work.ipynb",
      "provenance": [],
      "authorship_tag": "ABX9TyPahyg6t395qzppBbJxUyPZ",
      "include_colab_link": true
    },
    "kernelspec": {
      "name": "python3",
      "display_name": "Python 3"
    }
  },
  "cells": [
    {
      "cell_type": "markdown",
      "metadata": {
        "id": "view-in-github",
        "colab_type": "text"
      },
      "source": [
        "<a href=\"https://colab.research.google.com/github/mae-tafoya/DS-work/blob/master/DS_work.ipynb\" target=\"_parent\"><img src=\"https://colab.research.google.com/assets/colab-badge.svg\" alt=\"Open In Colab\"/></a>"
      ]
    },
    {
      "cell_type": "code",
      "metadata": {
        "id": "TmHvQotoAKGA",
        "colab_type": "code",
        "colab": {}
      },
      "source": [
        "This is a test line to follow along with the pre work video"
      ],
      "execution_count": null,
      "outputs": []
    }
  ]
}